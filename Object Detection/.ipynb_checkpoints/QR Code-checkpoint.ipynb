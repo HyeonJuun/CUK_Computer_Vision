{
 "cells": [
  {
   "cell_type": "code",
   "execution_count": 1,
   "id": "6932569d",
   "metadata": {},
   "outputs": [],
   "source": [
    "import cv2\n",
    "import numpy as np\n",
    "import matplotlib.pyplot as plt\n",
    "import webbrowser"
   ]
  },
  {
   "cell_type": "code",
   "execution_count": 3,
   "id": "624a336e",
   "metadata": {},
   "outputs": [
    {
     "name": "stdout",
     "output_type": "stream",
     "text": [
      "Decoded Data : https://www.catholic.ac.kr\n"
     ]
    }
   ],
   "source": [
    "inputImage = cv2.imread(\"../data/QRCode.png\")\n",
    "qrDecoder = cv2.QRCodeDetector()\n",
    "\n",
    "# QR 코드를 찾고 디코드 해줍니다.\n",
    "data, bbox, _ = qrDecoder.detectAndDecode(inputImage)\n",
    "\n",
    "if len(data) > 0:\n",
    "    print(\"Decoded Data : {}\".format(data))\n",
    "    \n",
    "    if bbox is not None:\n",
    "        nrOfPoints = len(bbox[0])\n",
    "        \n",
    "        for i in range(nrOfPoints):\n",
    "            nextPointIndex = (i+1) % nrOfPoints\n",
    "            p1 = bbox[0][i].astype(np.int32)\n",
    "            p2 = bbox[0][nextPointIndex].astype(np.int32)\n",
    "            cv2.line(inputImage, tuple(p1), tuple(p2), (0, 0, 255), 3)\n",
    "    \n",
    "    # display\n",
    "    cv2.imshow('QR Code', inputImage)\n",
    "    cv2.waitKey()\n",
    "    cv2.destroyAllWindows()\n",
    "    \n",
    "    # web browser\n",
    "    webbrowser.open(data)\n",
    "\n",
    "else:\n",
    "    print(\"QR Code not detected\")"
   ]
  },
  {
   "cell_type": "code",
   "execution_count": null,
   "id": "4fec68b1",
   "metadata": {},
   "outputs": [],
   "source": []
  }
 ],
 "metadata": {
  "kernelspec": {
   "display_name": "tf2.x",
   "language": "python",
   "name": "tf2.x"
  },
  "language_info": {
   "codemirror_mode": {
    "name": "ipython",
    "version": 3
   },
   "file_extension": ".py",
   "mimetype": "text/x-python",
   "name": "python",
   "nbconvert_exporter": "python",
   "pygments_lexer": "ipython3",
   "version": "3.8.12"
  }
 },
 "nbformat": 4,
 "nbformat_minor": 5
}
