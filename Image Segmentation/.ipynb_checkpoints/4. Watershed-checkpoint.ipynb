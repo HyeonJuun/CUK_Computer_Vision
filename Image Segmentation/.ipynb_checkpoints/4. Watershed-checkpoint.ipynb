{
 "cells": [
  {
   "cell_type": "code",
   "execution_count": 1,
   "metadata": {},
   "outputs": [],
   "source": [
    "import cv2\n",
    "import numpy as np"
   ]
  },
  {
   "cell_type": "code",
   "execution_count": 2,
   "metadata": {},
   "outputs": [
    {
     "name": "stdout",
     "output_type": "stream",
     "text": [
      "len(contours)= 1\n"
     ]
    },
    {
     "ename": "error",
     "evalue": "OpenCV(4.5.4-dev) :-1: error: (-5:Bad argument) in function 'drawContours'\n> Overload resolution failed:\n>  - image data type = 8 is not supported\n>  - Expected Ptr<cv::UMat> for argument 'image'\n",
     "output_type": "error",
     "traceback": [
      "\u001b[1;31m---------------------------------------------------------------------------\u001b[0m",
      "\u001b[1;31merror\u001b[0m                                     Traceback (most recent call last)",
      "\u001b[1;32m<ipython-input-2-3bd91822e55f>\u001b[0m in \u001b[0;36m<module>\u001b[1;34m\u001b[0m\n\u001b[0;32m     32\u001b[0m         \u001b[0mmarkers\u001b[0m\u001b[1;33m[\u001b[0m\u001b[1;33m:\u001b[0m\u001b[1;33m,\u001b[0m\u001b[1;33m:\u001b[0m\u001b[1;33m]\u001b[0m \u001b[1;33m=\u001b[0m \u001b[1;36m0\u001b[0m\u001b[1;33m\u001b[0m\u001b[1;33m\u001b[0m\u001b[0m\n\u001b[0;32m     33\u001b[0m         \u001b[1;32mfor\u001b[0m \u001b[0mi\u001b[0m\u001b[1;33m,\u001b[0m \u001b[0mcnt\u001b[0m \u001b[1;32min\u001b[0m \u001b[0menumerate\u001b[0m\u001b[1;33m(\u001b[0m\u001b[0mcontours\u001b[0m\u001b[1;33m)\u001b[0m\u001b[1;33m:\u001b[0m\u001b[1;33m\u001b[0m\u001b[1;33m\u001b[0m\u001b[0m\n\u001b[1;32m---> 34\u001b[1;33m             \u001b[0mcv2\u001b[0m\u001b[1;33m.\u001b[0m\u001b[0mdrawContours\u001b[0m\u001b[1;33m(\u001b[0m\u001b[0mmarkers\u001b[0m\u001b[1;33m,\u001b[0m \u001b[1;33m[\u001b[0m\u001b[0mcnt\u001b[0m\u001b[1;33m]\u001b[0m\u001b[1;33m,\u001b[0m \u001b[1;36m0\u001b[0m\u001b[1;33m,\u001b[0m \u001b[0mi\u001b[0m\u001b[1;33m+\u001b[0m\u001b[1;36m1\u001b[0m\u001b[1;33m,\u001b[0m \u001b[1;33m-\u001b[0m\u001b[1;36m1\u001b[0m\u001b[1;33m)\u001b[0m\u001b[1;33m\u001b[0m\u001b[1;33m\u001b[0m\u001b[0m\n\u001b[0m\u001b[0;32m     35\u001b[0m         \u001b[0mcv2\u001b[0m\u001b[1;33m.\u001b[0m\u001b[0mwatershed\u001b[0m\u001b[1;33m(\u001b[0m\u001b[0msrc\u001b[0m\u001b[1;33m,\u001b[0m \u001b[0mmarkers\u001b[0m\u001b[1;33m)\u001b[0m\u001b[1;33m\u001b[0m\u001b[1;33m\u001b[0m\u001b[0m\n\u001b[0;32m     36\u001b[0m \u001b[1;33m\u001b[0m\u001b[0m\n",
      "\u001b[1;31merror\u001b[0m: OpenCV(4.5.4-dev) :-1: error: (-5:Bad argument) in function 'drawContours'\n> Overload resolution failed:\n>  - image data type = 8 is not supported\n>  - Expected Ptr<cv::UMat> for argument 'image'\n"
     ]
    }
   ],
   "source": [
    "#1\n",
    "src = cv2.imread('../data/hand_paper.jpg')\n",
    "mask = np.zeros(src.shape[:2], dtype=np.uint8)\n",
    "markers = np.zeros(src.shape[:2], dtype=np.uint32)\n",
    "dst = src.copy()\n",
    "cv2.imshow('dst', dst)\n",
    "\n",
    "#2\n",
    "def onMouse(event, x, y, flags, param):\n",
    "    if event == cv2.EVENT_MOUSEMOVE:\n",
    "        if flags & cv2.EVENT_FLAG_LBUTTON:\n",
    "            cv2.circle(param[0], (x, y), 10, (255, 255 ,255), -1)\n",
    "            cv2.circle(param[1], (x, y), 10, (255, 255 ,255), -1)\n",
    "            cv2.imshow('dst', param[1])\n",
    "# 3\n",
    "mode = cv2.RETR_EXTERNAL\n",
    "method = cv2.CHAIN_APPROX_SIMPLE\n",
    "\n",
    "while True:\n",
    "    cv2.setMouseCallback('dst', onMouse, [mask, dst])\n",
    "    key = cv2.waitKey(30)\n",
    "    \n",
    "    if key == 0x1B: #esc\n",
    "        break\n",
    "    elif key ==ord('r'):\n",
    "        mask[:,:] = 0\n",
    "        dst = src.copy()\n",
    "        cv2.imshow('dst', dst)\n",
    "    elif key ==ord(' '):\n",
    "        contours, hierarchy = cv2.findContours(mask, mode, method)\n",
    "        print('len(contours)=', len(contours))\n",
    "        markers[:,:] = 0\n",
    "        for i, cnt in enumerate(contours):\n",
    "            cv2.drawContours(markers, [cnt], 0, i+1, -1)\n",
    "        cv2.watershed(src, markers)\n",
    "        \n",
    "        # 3-4\n",
    "        dst = src.copy()\n",
    "        dst[markers == -1] = [0, 0, 255] # 경계선\n",
    "        for i in range(len(contours)): # 분할영역\n",
    "            r = np.random.randint(256)\n",
    "            g = np.random.randint(256)\n",
    "            b = np.random.randint(256)\n",
    "            dst[markers == i +1] = [b, g, r]\n",
    "            dst = cv2.addWeighted(src, 0.4, dst, 0.6, 0) #합성\n",
    "            cv2.imshow('dst', dst)\n",
    "\n",
    "cv2.destroyAllWindows()"
   ]
  },
  {
   "cell_type": "code",
   "execution_count": null,
   "metadata": {},
   "outputs": [],
   "source": []
  }
 ],
 "metadata": {
  "kernelspec": {
   "display_name": "Python 3",
   "language": "python",
   "name": "python3"
  },
  "language_info": {
   "codemirror_mode": {
    "name": "ipython",
    "version": 3
   },
   "file_extension": ".py",
   "mimetype": "text/x-python",
   "name": "python",
   "nbconvert_exporter": "python",
   "pygments_lexer": "ipython3",
   "version": "3.8.8"
  }
 },
 "nbformat": 4,
 "nbformat_minor": 2
}
