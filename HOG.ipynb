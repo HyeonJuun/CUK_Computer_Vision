{
 "cells": [
  {
   "cell_type": "code",
   "execution_count": 1,
   "id": "1a484968",
   "metadata": {},
   "outputs": [],
   "source": [
    "import cv2\n",
    "import matplotlib.pyplot as plt"
   ]
  },
  {
   "cell_type": "code",
   "execution_count": 2,
   "id": "68c04c84",
   "metadata": {},
   "outputs": [],
   "source": [
    "src =cv2.imread('./data/man.png')\n",
    "#src =cv2.imread('./data/woman.png')"
   ]
  },
  {
   "cell_type": "code",
   "execution_count": 3,
   "id": "deb5d9ed",
   "metadata": {},
   "outputs": [
    {
     "name": "stdout",
     "output_type": "stream",
     "text": [
      "des1.shape= (3780,)\n",
      "des1= [0.01308054 0.00584509 0.04909251 ... 0.04155609 0.02162938 0.08109097]\n"
     ]
    }
   ],
   "source": [
    "#1 : HoG in color image\n",
    "hog1 = cv2.HOGDescriptor()\n",
    "des1 = hog1.compute(src)\n",
    "print('des1.shape=', des1.shape)\n",
    "print('des1=',des1)"
   ]
  },
  {
   "cell_type": "code",
   "execution_count": 5,
   "id": "83844340",
   "metadata": {},
   "outputs": [
    {
     "name": "stdout",
     "output_type": "stream",
     "text": [
      "des2.shape= (3780,)\n",
      "des2= [0.01308054 0.00584509 0.04909251 ... 0.04155609 0.02162938 0.08109097]\n"
     ]
    }
   ],
   "source": [
    "#2: HoG in color image\n",
    "winSize = (64, 128)\n",
    "blockSize = (16, 16)\n",
    "blockStride = (8, 8)\n",
    "cellSize = (8, 8)\n",
    "nbins = 9\n",
    "derivAperture = 1\n",
    "winSigma = -1 #4.0\n",
    "histogramNormType = 0\n",
    "L2HysThreshold = 0.2\n",
    "gammaCorrection = True\n",
    "nlevels = 64\n",
    "signedGradient =False\n",
    "hog2 = cv2.HOGDescriptor(winSize,blockSize,blockStride,cellSize,nbins,\n",
    "                        derivAperture, winSigma, histogramNormType, L2HysThreshold,\n",
    "                        gammaCorrection, nlevels, signedGradient)\n",
    "des2 = hog2.compute(src)\n",
    "print('des2.shape=',des2.shape)\n",
    "print('des2=',des2)"
   ]
  },
  {
   "cell_type": "code",
   "execution_count": 6,
   "id": "2912ca51",
   "metadata": {},
   "outputs": [
    {
     "name": "stdout",
     "output_type": "stream",
     "text": [
      "des3.shape= (3780,)\n",
      "des3= [0.00893402 0.01081526 0.02545157 ... 0.0347785  0.03489022 0.08337955]\n"
     ]
    }
   ],
   "source": [
    "#3 HoG in grayscale image\n",
    "gray = cv2.cvtColor(src, cv2.COLOR_BGR2GRAY)\n",
    "des3 = hog1.compute(gray)\n",
    "##des3 = hog2.compute(gray)\n",
    "print('des3.shape=',des3.shape)\n",
    "print('des3=',des3)"
   ]
  },
  {
   "cell_type": "code",
   "execution_count": null,
   "id": "6c8a14d6",
   "metadata": {},
   "outputs": [],
   "source": [
    "#4 display graph\n",
    "plt.title(\"HOGDescriptor\")\n",
    "plt.plot(des1[::36], color='b', linewidth=4, label='des1')\n",
    "plt.plot(des2[::36], color='r', linewidth=2, label='des2')\n",
    "plt.plot(des2[::36], color='g', linewidth=1, label='des3')\n",
    "plt."
   ]
  }
 ],
 "metadata": {
  "kernelspec": {
   "display_name": "tf2.x",
   "language": "python",
   "name": "tf2.x"
  },
  "language_info": {
   "codemirror_mode": {
    "name": "ipython",
    "version": 3
   },
   "file_extension": ".py",
   "mimetype": "text/x-python",
   "name": "python",
   "nbconvert_exporter": "python",
   "pygments_lexer": "ipython3",
   "version": "3.8.12"
  }
 },
 "nbformat": 4,
 "nbformat_minor": 5
}
