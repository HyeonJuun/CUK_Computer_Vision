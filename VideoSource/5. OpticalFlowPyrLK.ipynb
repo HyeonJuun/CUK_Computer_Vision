{
 "cells": [
  {
   "cell_type": "code",
   "execution_count": 1,
   "id": "4c394ee6",
   "metadata": {},
   "outputs": [],
   "source": [
    "import cv2\n",
    "import numpy as np\n",
    "import matplotlib.pyplot as plt"
   ]
  },
  {
   "cell_type": "code",
   "execution_count": null,
   "id": "c14341fa",
   "metadata": {},
   "outputs": [],
   "source": [
    "# 1\n",
    "roi = None\n",
    "drag_start = None\n",
    "mouse_status = 0\n",
    "tracking_start = False\n",
    "\n",
    "def onMouse(event, x, y, flags, params=None):\n",
    "    global roi\n",
    "    global drag_start\n",
    "    global mouse_status\n",
    "    global tracking_start\n",
    "    \n",
    "    if event == cv2.EVENT_LBUTTONDOWN:\n",
    "        drag_start = (x, y)\n",
    "        mouse_status = 1\n",
    "        tracking_start = False\n",
    "    \n",
    "    elif event == cv2.EVENT_MOUSEMOVE:\n",
    "        if"
   ]
  }
 ],
 "metadata": {
  "kernelspec": {
   "display_name": "tf2.x",
   "language": "python",
   "name": "tf2.x"
  },
  "language_info": {
   "codemirror_mode": {
    "name": "ipython",
    "version": 3
   },
   "file_extension": ".py",
   "mimetype": "text/x-python",
   "name": "python",
   "nbconvert_exporter": "python",
   "pygments_lexer": "ipython3",
   "version": "3.8.12"
  }
 },
 "nbformat": 4,
 "nbformat_minor": 5
}
